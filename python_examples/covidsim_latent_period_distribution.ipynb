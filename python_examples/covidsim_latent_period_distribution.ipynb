{
 "cells": [
  {
   "cell_type": "code",
   "execution_count": 1,
   "metadata": {},
   "outputs": [],
   "source": [
    "import random\n",
    "import math\n",
    "import numpy as np\n",
    "import matplotlib.pyplot as plt"
   ]
  },
  {
   "cell_type": "code",
   "execution_count": 2,
   "metadata": {},
   "outputs": [],
   "source": [
    "latent_period = 4.59\n",
    "latent_period_iCDF = [0, 0.098616903, 0.171170649,\n",
    "                          0.239705594, 0.307516598,\n",
    "                          0.376194441, 0.446827262,\n",
    "                          0.520343677, 0.597665592,\n",
    "                          0.679808341, 0.767974922,\n",
    "                          0.863671993, 0.968878064,\n",
    "                          1.086313899, 1.219915022,\n",
    "                          1.37573215, 1.563841395,\n",
    "                          1.803041398, 2.135346254,\n",
    "                          2.694118208, 3.964172493]\n",
    "CDF_RES = 20\n",
    "time_steps_per_day = 1"
   ]
  },
  {
   "cell_type": "code",
   "execution_count": 3,
   "metadata": {},
   "outputs": [],
   "source": [
    "def covidsim_latent(n):\n",
    "    covid_sim_array = np.ones(n)\n",
    "\n",
    "    for j in range(len(covid_sim_array)):\n",
    "        q = random.random() * CDF_RES\n",
    "        i = math.floor(q)\n",
    "        q -= float(i)\n",
    "        latent_time = 0.5 -\\\n",
    "        (latent_period * np.log(q * latent_period_iCDF[i + 1] +\n",
    "        (1.0 - q) * latent_period_iCDF[i]) *\n",
    "                time_steps_per_day)\n",
    "\n",
    "        latent_time = math.floor(latent_time)\n",
    "        covid_sim_array[j] = latent_time\n",
    "\n",
    "    return covid_sim_array"
   ]
  },
  {
   "cell_type": "code",
   "execution_count": 4,
   "metadata": {},
   "outputs": [],
   "source": [
    "def our_latent(n):\n",
    "    our_latent_array = np.ones(n)\n",
    "\n",
    "    for j in range(len(our_latent_array)):\n",
    "        q = random.random() * CDF_RES\n",
    "        i = math.floor(q)\n",
    "        q -= float(i)\n",
    "        latent_time = 0.5 +\\\n",
    "        (latent_period * q * latent_period_iCDF[i + 1] +\n",
    "        (1.0 - q) * latent_period_iCDF[i] *\n",
    "                time_steps_per_day)\n",
    "\n",
    "        latent_time = math.floor(latent_time)\n",
    "        our_latent_array[j] = latent_time\n",
    "\n",
    "    return our_latent_array"
   ]
  },
  {
   "cell_type": "code",
   "execution_count": 14,
   "metadata": {},
   "outputs": [],
   "source": [
    "covidsim = covidsim_latent(500)\n",
    "ours = our_latent(500)"
   ]
  },
  {
   "cell_type": "code",
   "execution_count": 16,
   "metadata": {},
   "outputs": [
    {
     "data": {
      "image/png": "[encoded data removed]",
      "text/plain": [
       "<Figure size 432x288 with 2 Axes>"
      ]
     },
     "metadata": {
      "needs_background": "light"
     },
     "output_type": "display_data"
    }
   ],
   "source": [
    "fig, (ax1, ax2) = plt.subplots(1, 2)\n",
    "ax1.hist(covidsim)\n",
    "ax1.set_title('covid sim')\n",
    "ax1.set_xlabel('latent period (days)')\n",
    "ax2.hist(ours)\n",
    "ax2.set_xlabel('latent period (days)')\n",
    "ax2.set_title('ours')\n",
    "plt.show()"
   ]
  }
 ],
 "metadata": {
  "interpreter": {
   "hash": "916dbcbb3f70747c44a77c7bcd40155683ae19c65e1c03b4aa3499c5328201f1"
  },
  "kernelspec": {
   "display_name": "Python 3.8.10 64-bit",
   "language": "python",
   "name": "python3"
  },
  "language_info": {
   "codemirror_mode": {
    "name": "ipython",
    "version": 3
   },
   "file_extension": ".py",
   "mimetype": "text/x-python",
   "name": "python",
   "nbconvert_exporter": "python",
   "pygments_lexer": "ipython3",
   "version": "3.8.10"
  },
  "orig_nbformat": 4
 },
 "nbformat": 4,
 "nbformat_minor": 2
}
