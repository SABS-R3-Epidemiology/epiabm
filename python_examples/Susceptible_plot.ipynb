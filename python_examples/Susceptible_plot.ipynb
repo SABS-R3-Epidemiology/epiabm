{
 "cells": [
  {
   "cell_type": "code",
   "execution_count": 2,
   "metadata": {},
   "outputs": [
    {
     "ename": "ModuleNotFoundError",
     "evalue": "No module named 'pyEpiabm'",
     "output_type": "error",
     "traceback": [
      "\u001b[0;31m---------------------------------------------------------------------------\u001b[0m",
      "\u001b[0;31mModuleNotFoundError\u001b[0m                       Traceback (most recent call last)",
      "\u001b[0;32m/tmp/ipykernel_40592/2711049221.py\u001b[0m in \u001b[0;36m<module>\u001b[0;34m\u001b[0m\n\u001b[1;32m      1\u001b[0m \u001b[0;32mimport\u001b[0m \u001b[0msys\u001b[0m\u001b[0;34m\u001b[0m\u001b[0;34m\u001b[0m\u001b[0m\n\u001b[1;32m      2\u001b[0m \u001b[0msys\u001b[0m\u001b[0;34m.\u001b[0m\u001b[0mpath\u001b[0m\u001b[0;34m.\u001b[0m\u001b[0mappend\u001b[0m\u001b[0;34m(\u001b[0m\u001b[0;34m'../pyEpiabm'\u001b[0m\u001b[0;34m)\u001b[0m\u001b[0;34m\u001b[0m\u001b[0;34m\u001b[0m\u001b[0m\n\u001b[0;32m----> 3\u001b[0;31m \u001b[0;32mimport\u001b[0m \u001b[0mpyEpiabm\u001b[0m \u001b[0;32mas\u001b[0m \u001b[0mpe\u001b[0m\u001b[0;34m\u001b[0m\u001b[0;34m\u001b[0m\u001b[0m\n\u001b[0m",
      "\u001b[0;31mModuleNotFoundError\u001b[0m: No module named 'pyEpiabm'"
     ]
    }
   ],
   "source": [
    "import sys\n",
    "sys.path.append('../pyEpiabm')\n",
    "import pyEpiabm as pe"
   ]
  },
  {
   "cell_type": "code",
   "execution_count": 1,
   "metadata": {},
   "outputs": [],
   "source": [
    "pop_params = {\"population_size\": 1000, \"cell_number\": 5,\n",
    "              \"microcell_number\": 5, \"household_number\": 5,\n",
    "              \"if_households\": True}\n",
    "\n",
    "sim_params = {\"simulation_start_time\": 0, \"simulation_end_time\": 100}\n",
    "\n",
    "file_params = {\"output_file\": \"output.csv\",\n",
    "               \"output_dir\": \"./simulation_outputs\"}\n"
   ]
  },
  {
   "cell_type": "code",
   "execution_count": null,
   "metadata": {},
   "outputs": [],
   "source": [
    "pe.Parameters.instance().time_steps_per_day = 1\n",
    "\n",
    "population = pe.ToyPopulationFactory().make_pop(**pop_params)\n",
    "\n",
    "population.cells[0].persons[0].update_status(pe.InfectionStatus.InfectMild)\n",
    "population.cells[0].persons[0].time_of_status_change = 10"
   ]
  },
  {
   "cell_type": "code",
   "execution_count": null,
   "metadata": {},
   "outputs": [],
   "source": [
    "sim = pe.Simulation()\n",
    "sim.configure(\n",
    "    population,\n",
    "    [pe.HouseholdSweep(), pe.HostProgressionSweep()],\n",
    "    sim_params,\n",
    "    file_params)\n",
    "\n",
    "sim.run_sweeps()"
   ]
  }
 ],
 "metadata": {
  "interpreter": {
   "hash": "916dbcbb3f70747c44a77c7bcd40155683ae19c65e1c03b4aa3499c5328201f1"
  },
  "kernelspec": {
   "display_name": "Python 3.8.10 64-bit",
   "language": "python",
   "name": "python3"
  },
  "language_info": {
   "codemirror_mode": {
    "name": "ipython",
    "version": 3
   },
   "file_extension": ".py",
   "mimetype": "text/x-python",
   "name": "python",
   "nbconvert_exporter": "python",
   "pygments_lexer": "ipython3",
   "version": "3.8.10"
  },
  "orig_nbformat": 4
 },
 "nbformat": 4,
 "nbformat_minor": 2
}
