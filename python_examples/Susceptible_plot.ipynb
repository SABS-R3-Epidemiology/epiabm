{
 "cells": [
  {
   "cell_type": "code",
   "execution_count": 27,
   "metadata": {},
   "outputs": [
    {
     "name": "stdout",
     "output_type": "stream",
     "text": [
      "/home/sabsr3/epiabm/python_examples\n",
      "/home/sabsr3/epiabm/pyEpiabm\n"
     ]
    }
   ],
   "source": [
    "import os\n",
    "print(os.getcwd())\n",
    "print(os.path.abspath('../pyEpiabm'))\n",
    "\n",
    "import sys\n",
    "sys.path.append(os.path.abspath('../pyEpiabm'))\n",
    "import pyEpiabm as pe\n",
    "import pandas as pd\n",
    "import matplotlib.pyplot as plt"
   ]
  },
  {
   "cell_type": "code",
   "execution_count": 28,
   "metadata": {},
   "outputs": [],
   "source": [
    "pop_params = {\"population_size\": 10, \"cell_number\": 1,\n",
    "              \"microcell_number\": 1, \"household_number\": 1,\n",
    "              \"if_households\": True}\n",
    "\n",
    "sim_params = {\"simulation_start_time\": 0, \"simulation_end_time\": 100}\n",
    "\n",
    "file_params = {\"output_file\": \"output.csv\",\n",
    "               \"output_dir\": \"./simulation_outputs\"}\n"
   ]
  },
  {
   "cell_type": "code",
   "execution_count": 29,
   "metadata": {},
   "outputs": [],
   "source": [
    "pe.Parameters.instance().time_steps_per_day = 1\n",
    "\n",
    "population = pe.ToyPopulationFactory().make_pop(**pop_params)\n",
    "\n",
    "test_dude = population.cells[0].persons[0]\n",
    "test_dude.update_status(pe.InfectionStatus.InfectMild)\n",
    "test_dude.time_of_status_change = 10\n"
   ]
  },
  {
   "cell_type": "code",
   "execution_count": 30,
   "metadata": {},
   "outputs": [],
   "source": [
    "sim = pe.Simulation()\n",
    "sim.configure(\n",
    "    population,\n",
    "    [pe.HouseholdSweep(), pe.QueueSweep(), pe.HostProgressionSweep()],\n",
    "    sim_params,\n",
    "    file_params)\n",
    "\n",
    "sim.run_sweeps()\n",
    "del(sim)"
   ]
  },
  {
   "cell_type": "code",
   "execution_count": 31,
   "metadata": {},
   "outputs": [
    {
     "data": {
      "image/png": "[encoded data removed]",
      "text/plain": [
       "<Figure size 432x288 with 1 Axes>"
      ]
     },
     "metadata": {
      "needs_background": "light"
     },
     "output_type": "display_data"
    }
   ],
   "source": [
    "df = pd.read_csv(\"simulation_outputs/output.csv\")\n",
    "df.plot(x=\"time\", y=[\"InfectionStatus.InfectMild\", \"InfectionStatus.Recovered\"])\n",
    "plt.show()"
   ]
  }
 ],
 "metadata": {
  "interpreter": {
   "hash": "916dbcbb3f70747c44a77c7bcd40155683ae19c65e1c03b4aa3499c5328201f1"
  },
  "kernelspec": {
   "display_name": "Python 3.8.10 64-bit",
   "language": "python",
   "name": "python3"
  },
  "language_info": {
   "codemirror_mode": {
    "name": "ipython",
    "version": 3
   },
   "file_extension": ".py",
   "mimetype": "text/x-python",
   "name": "python",
   "nbconvert_exporter": "python",
   "pygments_lexer": "ipython3",
   "version": "3.8.10"
  },
  "orig_nbformat": 4
 },
 "nbformat": 4,
 "nbformat_minor": 2
}
