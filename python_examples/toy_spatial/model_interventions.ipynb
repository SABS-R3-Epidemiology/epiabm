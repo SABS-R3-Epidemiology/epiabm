{
 "cells": [
  {
   "cell_type": "markdown",
   "metadata": {},
   "source": [
    "# Model Interventions Notebook\n",
    "\n",
    "This notebook covers:\n",
    "- An example of how to run a simulation with interventions, summarise the results, and plot them\n",
    "- Example results demonstrating the different simulations with multiple interventions that can be run and some simple comparisons."
   ]
  },
  {
   "cell_type": "markdown",
   "metadata": {},
   "source": [
    "We begin by importing the necessary modules."
   ]
  },
  {
   "cell_type": "code",
   "execution_count": 1,
   "metadata": {},
   "outputs": [],
   "source": [
    "import pandas as pd\n",
    "import os\n",
    "import matplotlib.pyplot as plt\n",
    "\n",
    "import pyEpiabm as pe"
   ]
  },
  {
   "cell_type": "markdown",
   "metadata": {},
   "source": [
    "For this example, we show how to run a simulation with the Case Isolation intervention and how parameters influence the infections curve. We run five repeat simulations for the example population, saving the output of each for subseqent processing. ...All simulations begin with 10 infected individuals and are run for 150 days."
   ]
  },
  {
   "cell_type": "code",
   "execution_count": null,
   "metadata": {},
   "outputs": [],
   "source": []
  },
  {
   "cell_type": "markdown",
   "metadata": {},
   "source": [
    "We then calculate the mean and standard deviation across the repetitions."
   ]
  },
  {
   "cell_type": "markdown",
   "metadata": {},
   "source": []
  },
  {
   "cell_type": "markdown",
   "metadata": {},
   "source": [
    "Finally, we plot the infection curve along with the standard deviations."
   ]
  },
  {
   "cell_type": "markdown",
   "metadata": {},
   "source": []
  },
  {
   "cell_type": "markdown",
   "metadata": {},
   "source": [
    "We can then compare the infection curves for simulations in which multiple interventions are active. Here we compare a simulation without interventions, a simulation with only the Case Isolation intervention, a simulation in which Household Quarantine is an additional intervention on top of Case Isolation, and a simulation with Case Isolation, Household Quarantine, and the Place Closure intervention."
   ]
  },
  {
   "cell_type": "markdown",
   "metadata": {},
   "source": []
  }
 ],
 "metadata": {
  "kernelspec": {
   "display_name": "venv",
   "language": "python",
   "name": "python3"
  },
  "language_info": {
   "codemirror_mode": {
    "name": "ipython",
    "version": 3
   },
   "file_extension": ".py",
   "mimetype": "text/x-python",
   "name": "python",
   "nbconvert_exporter": "python",
   "pygments_lexer": "ipython3",
   "version": "3.10.12"
  },
  "orig_nbformat": 4
 },
 "nbformat": 4,
 "nbformat_minor": 2
}
