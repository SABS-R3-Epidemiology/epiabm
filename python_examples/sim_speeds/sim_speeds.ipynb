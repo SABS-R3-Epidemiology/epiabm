{
 "cells": [
  {
   "cell_type": "markdown",
   "id": "df319801",
   "metadata": {},
   "source": [
    "We first set-up the inital code that will be consisten throughout our simulations for speed. That is the output for logging files, the parameter values and the same random seed"
   ]
  },
  {
   "cell_type": "code",
   "execution_count": 1,
   "id": "2fe648b1",
   "metadata": {},
   "outputs": [],
   "source": [
    "# Code to run simulations and plot runtime for populations of varying size\n",
    "# but with constant number of population (10 individuals) initially infected.\n",
    "\n",
    "import os\n",
    "import logging\n",
    "import matplotlib.pyplot as plt\n",
    "import time\n",
    "import numpy as np\n",
    "\n",
    "import pyEpiabm as pe\n",
    "\n",
    "# Setup output for logging file\n",
    "logging.basicConfig(filename='sim.log', filemode='w+', level=logging.DEBUG,\n",
    "                    format=('%(asctime)s - %(name)s'\n",
    "                            + '- %(levelname)s - %(message)s'))\n",
    "\n",
    "# Set config file for Parameters\n",
    "pe.Parameters.set_file(os.path.join(os.path.abspath(''),\n",
    "                       \"simple_parameters.json\"))\n",
    "\n",
    "\n",
    "# Method to set the seed at the start of the simulation, for reproducibility\n",
    "\n",
    "pe.routine.Simulation.set_random_seed(seed=42)"
   ]
  },
  {
   "cell_type": "markdown",
   "id": "2f2efc7b",
   "metadata": {},
   "source": [
    "The first simulation we run changes the population size (1000, 2000, 4000, 8000, 10000) wiht the same initial infected number of individuals (10). This simulation only uses 1 cell."
   ]
  },
  {
   "cell_type": "code",
   "execution_count": 2,
   "id": "fc164d2a",
   "metadata": {},
   "outputs": [
    {
     "name": "stderr",
     "output_type": "stream",
     "text": [
      "100%|██████████| 60/60 [00:02<00:00, 22.41it/s]\n",
      "100%|██████████| 60/60 [00:08<00:00,  7.32it/s]\n",
      "100%|██████████| 60/60 [00:10<00:00,  5.88it/s]\n",
      " 17%|█▋        | 10/60 [00:28<02:22,  2.85s/it]\n"
     ]
    },
    {
     "ename": "KeyboardInterrupt",
     "evalue": "",
     "output_type": "error",
     "traceback": [
      "\u001b[0;31m---------------------------------------------------------------------------\u001b[0m",
      "\u001b[0;31mKeyboardInterrupt\u001b[0m                         Traceback (most recent call last)",
      "Cell \u001b[0;32mIn [2], line 40\u001b[0m\n\u001b[1;32m     32\u001b[0m sim \u001b[39m=\u001b[39m pe\u001b[39m.\u001b[39mroutine\u001b[39m.\u001b[39mSimulation()\n\u001b[1;32m     33\u001b[0m sim\u001b[39m.\u001b[39mconfigure(\n\u001b[1;32m     34\u001b[0m     population,\n\u001b[1;32m     35\u001b[0m     [pe\u001b[39m.\u001b[39msweep\u001b[39m.\u001b[39mInitialInfectedSweep()],\n\u001b[0;32m   (...)\u001b[0m\n\u001b[1;32m     38\u001b[0m     sim_params,\n\u001b[1;32m     39\u001b[0m     file_params)\n\u001b[0;32m---> 40\u001b[0m sim\u001b[39m.\u001b[39;49mrun_sweeps()\n\u001b[1;32m     42\u001b[0m \u001b[39m# Store end time\u001b[39;00m\n\u001b[1;32m     43\u001b[0m et \u001b[39m=\u001b[39m time\u001b[39m.\u001b[39mtime()\n",
      "File \u001b[0;32m~/Software-Project/epiabm/pyEpiabm/pyEpiabm/utility/exception_logger.py:24\u001b[0m, in \u001b[0;36mlog_exceptions.<locals>.decorator.<locals>.wrapper\u001b[0;34m(*args, **kwargs)\u001b[0m\n\u001b[1;32m     21\u001b[0m \u001b[39m@wraps\u001b[39m(func)\n\u001b[1;32m     22\u001b[0m \u001b[39mdef\u001b[39;00m \u001b[39mwrapper\u001b[39m(\u001b[39m*\u001b[39margs, \u001b[39m*\u001b[39m\u001b[39m*\u001b[39mkwargs):\n\u001b[1;32m     23\u001b[0m     \u001b[39mtry\u001b[39;00m:\n\u001b[0;32m---> 24\u001b[0m         \u001b[39mreturn\u001b[39;00m func(\u001b[39m*\u001b[39;49margs, \u001b[39m*\u001b[39;49m\u001b[39m*\u001b[39;49mkwargs)\n\u001b[1;32m     25\u001b[0m     \u001b[39mexcept\u001b[39;00m \u001b[39mException\u001b[39;00m \u001b[39mas\u001b[39;00m e:\n\u001b[1;32m     26\u001b[0m         logging\u001b[39m.\u001b[39mexception(\u001b[39mf\u001b[39m\u001b[39m\"\u001b[39m\u001b[39m{\u001b[39;00m\u001b[39mtype\u001b[39m(e)\u001b[39m.\u001b[39m\u001b[39m__name__\u001b[39m\u001b[39m}\u001b[39;00m\u001b[39m in \u001b[39m\u001b[39m\"\u001b[39m\n\u001b[1;32m     27\u001b[0m                           \u001b[39m+\u001b[39m \u001b[39mf\u001b[39m\u001b[39m\"\u001b[39m\u001b[39m{\u001b[39;00mfunc\u001b[39m.\u001b[39m\u001b[39m__qualname__\u001b[39m\u001b[39m}\u001b[39;00m\u001b[39m()\u001b[39m\u001b[39m\"\u001b[39m \u001b[39m+\u001b[39m message)\n",
      "File \u001b[0;32m~/Software-Project/epiabm/pyEpiabm/pyEpiabm/routine/simulation.py:144\u001b[0m, in \u001b[0;36mSimulation.run_sweeps\u001b[0;34m(self)\u001b[0m\n\u001b[1;32m    140\u001b[0m \u001b[39mfor\u001b[39;00m t \u001b[39min\u001b[39;00m tqdm(np\u001b[39m.\u001b[39marange(\u001b[39mself\u001b[39m\u001b[39m.\u001b[39msim_params[\u001b[39m\"\u001b[39m\u001b[39msimulation_start_time\u001b[39m\u001b[39m\"\u001b[39m] \u001b[39m+\u001b[39m ts,\n\u001b[1;32m    141\u001b[0m                         \u001b[39mself\u001b[39m\u001b[39m.\u001b[39msim_params[\u001b[39m\"\u001b[39m\u001b[39msimulation_end_time\u001b[39m\u001b[39m\"\u001b[39m] \u001b[39m+\u001b[39m ts,\n\u001b[1;32m    142\u001b[0m                         ts)):\n\u001b[1;32m    143\u001b[0m     \u001b[39mfor\u001b[39;00m sweep \u001b[39min\u001b[39;00m \u001b[39mself\u001b[39m\u001b[39m.\u001b[39msweeps:\n\u001b[0;32m--> 144\u001b[0m         sweep(t)\n\u001b[1;32m    145\u001b[0m     \u001b[39mself\u001b[39m\u001b[39m.\u001b[39mwrite_to_file(t)\n\u001b[1;32m    146\u001b[0m     \u001b[39mfor\u001b[39;00m writer \u001b[39min\u001b[39;00m \u001b[39mself\u001b[39m\u001b[39m.\u001b[39mwriters:\n",
      "File \u001b[0;32m~/Software-Project/epiabm/pyEpiabm/pyEpiabm/sweep/host_progression_sweep.py:286\u001b[0m, in \u001b[0;36mHostProgressionSweep.__call__\u001b[0;34m(self, time)\u001b[0m\n\u001b[1;32m    284\u001b[0m         \u001b[39mself\u001b[39m\u001b[39m.\u001b[39mset_infectiousness(person, time)\n\u001b[1;32m    285\u001b[0m     \u001b[39mself\u001b[39m\u001b[39m.\u001b[39mupdate_next_infection_status(person)\n\u001b[0;32m--> 286\u001b[0m     \u001b[39mself\u001b[39;49m\u001b[39m.\u001b[39;49mupdate_time_status_change(person, time)\n\u001b[1;32m    287\u001b[0m \u001b[39mself\u001b[39m\u001b[39m.\u001b[39m_updates_infectiousness(person, time)\n",
      "File \u001b[0;32m~/Software-Project/epiabm/pyEpiabm/pyEpiabm/sweep/host_progression_sweep.py:220\u001b[0m, in \u001b[0;36mHostProgressionSweep.update_time_status_change\u001b[0;34m(self, person, time)\u001b[0m\n\u001b[1;32m    216\u001b[0m \u001b[39m# Adds delay to transition time for first level symptomatic infection\u001b[39;00m\n\u001b[1;32m    217\u001b[0m \u001b[39m# statuses (InfectMild or InfectGP), as is done in CovidSim.\u001b[39;00m\n\u001b[1;32m    218\u001b[0m \u001b[39mif\u001b[39;00m person\u001b[39m.\u001b[39minfection_status \u001b[39min\u001b[39;00m [InfectionStatus\u001b[39m.\u001b[39mInfectMild,\n\u001b[1;32m    219\u001b[0m                                InfectionStatus\u001b[39m.\u001b[39mInfectGP]:\n\u001b[0;32m--> 220\u001b[0m     transition_time \u001b[39m+\u001b[39m\u001b[39m=\u001b[39m HostProgressionSweep()\u001b[39m.\u001b[39mdelay\n\u001b[1;32m    221\u001b[0m \u001b[39m# Assigns the time of status change using current time and transition\u001b[39;00m\n\u001b[1;32m    222\u001b[0m \u001b[39m# time:\u001b[39;00m\n\u001b[1;32m    223\u001b[0m \u001b[39mif\u001b[39;00m transition_time \u001b[39m<\u001b[39m \u001b[39m0\u001b[39m:\n",
      "File \u001b[0;32m~/Software-Project/epiabm/pyEpiabm/pyEpiabm/sweep/host_progression_sweep.py:42\u001b[0m, in \u001b[0;36mHostProgressionSweep.__init__\u001b[0;34m(self)\u001b[0m\n\u001b[1;32m     39\u001b[0m use_ages \u001b[39m=\u001b[39m Parameters\u001b[39m.\u001b[39minstance()\u001b[39m.\u001b[39muse_ages\n\u001b[1;32m     40\u001b[0m coefficients \u001b[39m=\u001b[39m defaultdict(\u001b[39mint\u001b[39m, Parameters\u001b[39m.\u001b[39minstance()\n\u001b[1;32m     41\u001b[0m                            \u001b[39m.\u001b[39mhost_progression_lists)\n\u001b[0;32m---> 42\u001b[0m matrix_object \u001b[39m=\u001b[39m StateTransitionMatrix(coefficients, use_ages)\n\u001b[1;32m     43\u001b[0m \u001b[39mself\u001b[39m\u001b[39m.\u001b[39mstate_transition_matrix \u001b[39m=\u001b[39m matrix_object\u001b[39m.\u001b[39mmatrix\n\u001b[1;32m     45\u001b[0m \u001b[39mself\u001b[39m\u001b[39m.\u001b[39mnumber_of_states \u001b[39m=\u001b[39m \u001b[39mlen\u001b[39m(InfectionStatus)\n",
      "File \u001b[0;32m~/Software-Project/epiabm/pyEpiabm/pyEpiabm/utility/state_transition_matrix.py:30\u001b[0m, in \u001b[0;36mStateTransitionMatrix.__init__\u001b[0;34m(self, coefficients, use_ages)\u001b[0m\n\u001b[1;32m     28\u001b[0m \u001b[39mself\u001b[39m\u001b[39m.\u001b[39mage_dependent \u001b[39m=\u001b[39m use_ages\n\u001b[1;32m     29\u001b[0m \u001b[39mif\u001b[39;00m \u001b[39mnot\u001b[39;00m \u001b[39mself\u001b[39m\u001b[39m.\u001b[39mage_dependent:\n\u001b[0;32m---> 30\u001b[0m     \u001b[39mself\u001b[39;49m\u001b[39m.\u001b[39;49mremove_age_dependence()\n",
      "File \u001b[0;32m~/Software-Project/epiabm/pyEpiabm/pyEpiabm/utility/state_transition_matrix.py:139\u001b[0m, in \u001b[0;36mStateTransitionMatrix.remove_age_dependence\u001b[0;34m(self)\u001b[0m\n\u001b[1;32m    134\u001b[0m \u001b[39m\"\"\"Conducts weighted average over age groups to remove age dependence\u001b[39;00m\n\u001b[1;32m    135\u001b[0m \u001b[39min the state transition matrix.\u001b[39;00m\n\u001b[1;32m    136\u001b[0m \n\u001b[1;32m    137\u001b[0m \u001b[39m\"\"\"\u001b[39;00m\n\u001b[1;32m    138\u001b[0m weights \u001b[39m=\u001b[39m pyEpiabm\u001b[39m.\u001b[39mcore\u001b[39m.\u001b[39mParameters\u001b[39m.\u001b[39minstance()\u001b[39m.\u001b[39mage_proportions\n\u001b[0;32m--> 139\u001b[0m \u001b[39mself\u001b[39m\u001b[39m.\u001b[39mmatrix \u001b[39m=\u001b[39m \u001b[39mself\u001b[39;49m\u001b[39m.\u001b[39;49mmatrix\u001b[39m.\u001b[39;49mapplymap(\n\u001b[1;32m    140\u001b[0m     \u001b[39mlambda\u001b[39;49;00m x: np\u001b[39m.\u001b[39;49maverage(x, weights\u001b[39m=\u001b[39;49mweights)\n\u001b[1;32m    141\u001b[0m     \u001b[39mif\u001b[39;49;00m \u001b[39misinstance\u001b[39;49m(x, \u001b[39mlist\u001b[39;49m) \u001b[39melse\u001b[39;49;00m x)\n",
      "File \u001b[0;32m~/Desktop/Covid_report/venv/lib/python3.10/site-packages/pandas/core/frame.py:9640\u001b[0m, in \u001b[0;36mDataFrame.applymap\u001b[0;34m(self, func, na_action, **kwargs)\u001b[0m\n\u001b[1;32m   9637\u001b[0m         \u001b[39mreturn\u001b[39;00m lib\u001b[39m.\u001b[39mmap_infer(x, func, ignore_na\u001b[39m=\u001b[39mignore_na)\n\u001b[1;32m   9638\u001b[0m     \u001b[39mreturn\u001b[39;00m lib\u001b[39m.\u001b[39mmap_infer(x\u001b[39m.\u001b[39mastype(\u001b[39mobject\u001b[39m)\u001b[39m.\u001b[39m_values, func, ignore_na\u001b[39m=\u001b[39mignore_na)\n\u001b[0;32m-> 9640\u001b[0m \u001b[39mreturn\u001b[39;00m \u001b[39mself\u001b[39;49m\u001b[39m.\u001b[39;49mapply(infer)\u001b[39m.\u001b[39m__finalize__(\u001b[39mself\u001b[39m, \u001b[39m\"\u001b[39m\u001b[39mapplymap\u001b[39m\u001b[39m\"\u001b[39m)\n",
      "File \u001b[0;32m~/Desktop/Covid_report/venv/lib/python3.10/site-packages/pandas/core/frame.py:9555\u001b[0m, in \u001b[0;36mDataFrame.apply\u001b[0;34m(self, func, axis, raw, result_type, args, **kwargs)\u001b[0m\n\u001b[1;32m   9544\u001b[0m \u001b[39mfrom\u001b[39;00m \u001b[39mpandas\u001b[39;00m\u001b[39m.\u001b[39;00m\u001b[39mcore\u001b[39;00m\u001b[39m.\u001b[39;00m\u001b[39mapply\u001b[39;00m \u001b[39mimport\u001b[39;00m frame_apply\n\u001b[1;32m   9546\u001b[0m op \u001b[39m=\u001b[39m frame_apply(\n\u001b[1;32m   9547\u001b[0m     \u001b[39mself\u001b[39m,\n\u001b[1;32m   9548\u001b[0m     func\u001b[39m=\u001b[39mfunc,\n\u001b[0;32m   (...)\u001b[0m\n\u001b[1;32m   9553\u001b[0m     kwargs\u001b[39m=\u001b[39mkwargs,\n\u001b[1;32m   9554\u001b[0m )\n\u001b[0;32m-> 9555\u001b[0m \u001b[39mreturn\u001b[39;00m op\u001b[39m.\u001b[39;49mapply()\u001b[39m.\u001b[39m__finalize__(\u001b[39mself\u001b[39m, method\u001b[39m=\u001b[39m\u001b[39m\"\u001b[39m\u001b[39mapply\u001b[39m\u001b[39m\"\u001b[39m)\n",
      "File \u001b[0;32m~/Desktop/Covid_report/venv/lib/python3.10/site-packages/pandas/core/apply.py:746\u001b[0m, in \u001b[0;36mFrameApply.apply\u001b[0;34m(self)\u001b[0m\n\u001b[1;32m    743\u001b[0m \u001b[39melif\u001b[39;00m \u001b[39mself\u001b[39m\u001b[39m.\u001b[39mraw:\n\u001b[1;32m    744\u001b[0m     \u001b[39mreturn\u001b[39;00m \u001b[39mself\u001b[39m\u001b[39m.\u001b[39mapply_raw()\n\u001b[0;32m--> 746\u001b[0m \u001b[39mreturn\u001b[39;00m \u001b[39mself\u001b[39;49m\u001b[39m.\u001b[39;49mapply_standard()\n",
      "File \u001b[0;32m~/Desktop/Covid_report/venv/lib/python3.10/site-packages/pandas/core/apply.py:873\u001b[0m, in \u001b[0;36mFrameApply.apply_standard\u001b[0;34m(self)\u001b[0m\n\u001b[1;32m    872\u001b[0m \u001b[39mdef\u001b[39;00m \u001b[39mapply_standard\u001b[39m(\u001b[39mself\u001b[39m):\n\u001b[0;32m--> 873\u001b[0m     results, res_index \u001b[39m=\u001b[39m \u001b[39mself\u001b[39;49m\u001b[39m.\u001b[39;49mapply_series_generator()\n\u001b[1;32m    875\u001b[0m     \u001b[39m# wrap results\u001b[39;00m\n\u001b[1;32m    876\u001b[0m     \u001b[39mreturn\u001b[39;00m \u001b[39mself\u001b[39m\u001b[39m.\u001b[39mwrap_results(results, res_index)\n",
      "File \u001b[0;32m~/Desktop/Covid_report/venv/lib/python3.10/site-packages/pandas/core/apply.py:889\u001b[0m, in \u001b[0;36mFrameApply.apply_series_generator\u001b[0;34m(self)\u001b[0m\n\u001b[1;32m    886\u001b[0m \u001b[39mwith\u001b[39;00m option_context(\u001b[39m\"\u001b[39m\u001b[39mmode.chained_assignment\u001b[39m\u001b[39m\"\u001b[39m, \u001b[39mNone\u001b[39;00m):\n\u001b[1;32m    887\u001b[0m     \u001b[39mfor\u001b[39;00m i, v \u001b[39min\u001b[39;00m \u001b[39menumerate\u001b[39m(series_gen):\n\u001b[1;32m    888\u001b[0m         \u001b[39m# ignore SettingWithCopy here in case the user mutates\u001b[39;00m\n\u001b[0;32m--> 889\u001b[0m         results[i] \u001b[39m=\u001b[39m \u001b[39mself\u001b[39;49m\u001b[39m.\u001b[39;49mf(v)\n\u001b[1;32m    890\u001b[0m         \u001b[39mif\u001b[39;00m \u001b[39misinstance\u001b[39m(results[i], ABCSeries):\n\u001b[1;32m    891\u001b[0m             \u001b[39m# If we have a view on v, we need to make a copy because\u001b[39;00m\n\u001b[1;32m    892\u001b[0m             \u001b[39m#  series_generator will swap out the underlying data\u001b[39;00m\n\u001b[1;32m    893\u001b[0m             results[i] \u001b[39m=\u001b[39m results[i]\u001b[39m.\u001b[39mcopy(deep\u001b[39m=\u001b[39m\u001b[39mFalse\u001b[39;00m)\n",
      "File \u001b[0;32m~/Desktop/Covid_report/venv/lib/python3.10/site-packages/pandas/core/frame.py:9638\u001b[0m, in \u001b[0;36mDataFrame.applymap.<locals>.infer\u001b[0;34m(x)\u001b[0m\n\u001b[1;32m   9636\u001b[0m \u001b[39mif\u001b[39;00m x\u001b[39m.\u001b[39mempty:\n\u001b[1;32m   9637\u001b[0m     \u001b[39mreturn\u001b[39;00m lib\u001b[39m.\u001b[39mmap_infer(x, func, ignore_na\u001b[39m=\u001b[39mignore_na)\n\u001b[0;32m-> 9638\u001b[0m \u001b[39mreturn\u001b[39;00m lib\u001b[39m.\u001b[39;49mmap_infer(x\u001b[39m.\u001b[39;49mastype(\u001b[39mobject\u001b[39;49m)\u001b[39m.\u001b[39;49m_values, func, ignore_na\u001b[39m=\u001b[39;49mignore_na)\n",
      "File \u001b[0;32m~/Desktop/Covid_report/venv/lib/python3.10/site-packages/pandas/_libs/lib.pyx:2918\u001b[0m, in \u001b[0;36mpandas._libs.lib.map_infer\u001b[0;34m()\u001b[0m\n",
      "File \u001b[0;32m~/Software-Project/epiabm/pyEpiabm/pyEpiabm/utility/state_transition_matrix.py:140\u001b[0m, in \u001b[0;36mStateTransitionMatrix.remove_age_dependence.<locals>.<lambda>\u001b[0;34m(x)\u001b[0m\n\u001b[1;32m    134\u001b[0m \u001b[39m\"\"\"Conducts weighted average over age groups to remove age dependence\u001b[39;00m\n\u001b[1;32m    135\u001b[0m \u001b[39min the state transition matrix.\u001b[39;00m\n\u001b[1;32m    136\u001b[0m \n\u001b[1;32m    137\u001b[0m \u001b[39m\"\"\"\u001b[39;00m\n\u001b[1;32m    138\u001b[0m weights \u001b[39m=\u001b[39m pyEpiabm\u001b[39m.\u001b[39mcore\u001b[39m.\u001b[39mParameters\u001b[39m.\u001b[39minstance()\u001b[39m.\u001b[39mage_proportions\n\u001b[1;32m    139\u001b[0m \u001b[39mself\u001b[39m\u001b[39m.\u001b[39mmatrix \u001b[39m=\u001b[39m \u001b[39mself\u001b[39m\u001b[39m.\u001b[39mmatrix\u001b[39m.\u001b[39mapplymap(\n\u001b[0;32m--> 140\u001b[0m     \u001b[39mlambda\u001b[39;00m x: np\u001b[39m.\u001b[39;49maverage(x, weights\u001b[39m=\u001b[39;49mweights)\n\u001b[1;32m    141\u001b[0m     \u001b[39mif\u001b[39;00m \u001b[39misinstance\u001b[39m(x, \u001b[39mlist\u001b[39m) \u001b[39melse\u001b[39;00m x)\n",
      "File \u001b[0;32m<__array_function__ internals>:179\u001b[0m, in \u001b[0;36maverage\u001b[0;34m(*args, **kwargs)\u001b[0m\n",
      "File \u001b[0;32m~/Desktop/Covid_report/venv/lib/python3.10/site-packages/numpy/lib/function_base.py:391\u001b[0m, in \u001b[0;36m_average_dispatcher\u001b[0;34m(a, axis, weights, returned, keepdims)\u001b[0m\n\u001b[1;32m    387\u001b[0m         \u001b[39mreturn\u001b[39;00m \u001b[39mFalse\u001b[39;00m\n\u001b[1;32m    388\u001b[0m     \u001b[39mreturn\u001b[39;00m \u001b[39mTrue\u001b[39;00m\n\u001b[0;32m--> 391\u001b[0m \u001b[39mdef\u001b[39;00m \u001b[39m_average_dispatcher\u001b[39m(a, axis\u001b[39m=\u001b[39m\u001b[39mNone\u001b[39;00m, weights\u001b[39m=\u001b[39m\u001b[39mNone\u001b[39;00m, returned\u001b[39m=\u001b[39m\u001b[39mNone\u001b[39;00m, \u001b[39m*\u001b[39m,\n\u001b[1;32m    392\u001b[0m                         keepdims\u001b[39m=\u001b[39m\u001b[39mNone\u001b[39;00m):\n\u001b[1;32m    393\u001b[0m     \u001b[39mreturn\u001b[39;00m (a, weights)\n\u001b[1;32m    396\u001b[0m \u001b[39m@array_function_dispatch\u001b[39m(_average_dispatcher)\n\u001b[1;32m    397\u001b[0m \u001b[39mdef\u001b[39;00m \u001b[39maverage\u001b[39m(a, axis\u001b[39m=\u001b[39m\u001b[39mNone\u001b[39;00m, weights\u001b[39m=\u001b[39m\u001b[39mNone\u001b[39;00m, returned\u001b[39m=\u001b[39m\u001b[39mFalse\u001b[39;00m, \u001b[39m*\u001b[39m,\n\u001b[1;32m    398\u001b[0m             keepdims\u001b[39m=\u001b[39mnp\u001b[39m.\u001b[39m_NoValue):\n",
      "\u001b[0;31mKeyboardInterrupt\u001b[0m: "
     ]
    }
   ],
   "source": [
    "pop_sizes = np.array([int(1000), int(2000), int(4000), int(8000), int(10000)])\n",
    "sim_times = []\n",
    "\n",
    "number_sims = len(pop_sizes)\n",
    "\n",
    "for i in range(len(pop_sizes)):\n",
    "\n",
    "    # Pop_params are used to configure the population structure being used i\n",
    "    # this simulation.\n",
    "    pop_params = {\"population_size\": pop_sizes[i], \"cell_number\": 1,\n",
    "                  \"microcell_number\": 1, \"household_number\": 5,\n",
    "                  \"place_number\": 2}\n",
    "\n",
    "    # Create a population based on the parameters given.\n",
    "    population = pe.routine.ToyPopulationFactory().make_pop(pop_params)\n",
    "\n",
    "    # sim_ and file_params give details for the running of the simulations and\n",
    "    # where output should be written to.\n",
    "    sim_params = {\"simulation_start_time\": 0, \"simulation_end_time\": 60,\n",
    "                  \"initial_infected_number\": 10}\n",
    "\n",
    "    file_params = {\"output_file\": \"output.csv\",\n",
    "                   \"output_dir\": os.path.join(os.path.abspath(''),\n",
    "                                              \"simulation_outputs\"),\n",
    "                   \"spatial_output\": False, \"age_stratified\": False}\n",
    "\n",
    "    # Store start time\n",
    "    st = time.time()\n",
    "\n",
    "    # Create a simulation object, configure it with the parameters given, then\n",
    "    # run the simulation.\n",
    "    sim = pe.routine.Simulation()\n",
    "    sim.configure(\n",
    "        population,\n",
    "        [pe.sweep.InitialInfectedSweep()],\n",
    "        [pe.sweep.HouseholdSweep(), pe.sweep.QueueSweep(),\n",
    "         pe.sweep.HostProgressionSweep()],\n",
    "        sim_params,\n",
    "        file_params)\n",
    "    sim.run_sweeps()\n",
    "\n",
    "    # Store end time\n",
    "    et = time.time()\n",
    "\n",
    "    this_sim_time = et - st\n",
    "    sim_times.append(this_sim_time)\n",
    "\n",
    "    # Need to close the writer object at the end of each simulation.\n",
    "    del sim.writer\n",
    "    del sim\n",
    "\n"
   ]
  },
  {
   "cell_type": "markdown",
   "id": "abf655ea",
   "metadata": {},
   "source": [
    "We now plot this data on a linear scale and a log scale to try to accertain how the speed of simulation scales with population size."
   ]
  },
  {
   "cell_type": "code",
   "execution_count": null,
   "id": "b082ded2",
   "metadata": {},
   "outputs": [],
   "source": [
    "\n",
    "# Plotting graph code\n",
    "x = pop_sizes\n",
    "y = sim_times\n",
    "\n",
    "# Plot on linear scale\n",
    "plt.title(\"Simulation time for basic simulation over 60 days with constant \"\n",
    "          \"initial infections (10)\")\n",
    "plt.xlabel('Population Size')\n",
    "plt.xscale('linear')\n",
    "plt.ylabel('time (s)')\n",
    "plt.plot(x, y, marker='o', c='g')\n",
    "\n",
    "plt.show()\n",
    "\n",
    "# Plot on log scale\n",
    "plt.title(\"Log scale plot for simulation time for basic simulation over 60 days with constant \"\n",
    "          \"initial infections (10)\")\n",
    "plt.xscale('log')\n",
    "plt.yscale('log')\n",
    "plt.ylabel('time (s)')\n",
    "plt.plot(x, y, marker='o', c='g')\n",
    "\n",
    "plt.show()\n"
   ]
  },
  {
   "cell_type": "markdown",
   "id": "cf70b811",
   "metadata": {},
   "source": [
    "We now want to run a similar simulation by changing the population size but this time keeping the proportion of infected individuals the same (0.1%)"
   ]
  },
  {
   "cell_type": "code",
   "execution_count": null,
   "id": "ae414cdc",
   "metadata": {},
   "outputs": [
    {
     "name": "stderr",
     "output_type": "stream",
     "text": [
      "100%|█████████████████████████████████████████████████████████████████████████████████████████████████████████| 60/60 [00:00<00:00, 84.22it/s]\n",
      "100%|█████████████████████████████████████████████████████████████████████████████████████████████████████████| 60/60 [00:02<00:00, 23.16it/s]\n",
      "100%|█████████████████████████████████████████████████████████████████████████████████████████████████████████| 60/60 [00:08<00:00,  6.98it/s]\n",
      "100%|█████████████████████████████████████████████████████████████████████████████████████████████████████████| 60/60 [00:22<00:00,  2.66it/s]\n",
      "100%|█████████████████████████████████████████████████████████████████████████████████████████████████████████| 60/60 [00:57<00:00,  1.04it/s]\n"
     ]
    }
   ],
   "source": [
    "pop_sizes = np.array([int(1000), int(2000), int(4000), int(8000), int(10000)])\n",
    "sim_times = []\n",
    "\n",
    "number_sims = len(pop_sizes)\n",
    "\n",
    "for i in range(len(pop_sizes)):\n",
    "\n",
    "    # Pop_params are used to configure the population structure being used in\n",
    "    # this simulation.\n",
    "    pop_params = {\"population_size\": pop_sizes[i], \"cell_number\": 1,\n",
    "                  \"microcell_number\": 1, \"household_number\": 5,\n",
    "                  \"place_number\": 2}\n",
    "\n",
    "    # Create a population based on the parameters given.\n",
    "    population = pe.routine.ToyPopulationFactory().make_pop(pop_params)\n",
    "\n",
    "    # sim_ and file_params give details for the running of the simulations and\n",
    "    # where output should be written to.\n",
    "    sim_params = {\"simulation_start_time\": 0, \"simulation_end_time\": 60,\n",
    "                  \"initial_infected_number\": int(pop_sizes[i]/1000)}\n",
    "\n",
    "    file_params = {\"output_file\": \"output.csv\",\n",
    "                   \"output_dir\": os.path.join(os.path.abspath(''),\n",
    "                                              \"simulation_outputs\"),\n",
    "                   \"spatial_output\": False, \"age_stratified\": False}\n",
    "\n",
    "    # Store start time\n",
    "    st = time.time()\n",
    "\n",
    "    # Create a simulation object, configure it with the parameters given, then\n",
    "    # run the simulation.\n",
    "    sim = pe.routine.Simulation()\n",
    "    sim.configure(\n",
    "        population,\n",
    "        [pe.sweep.InitialInfectedSweep()],\n",
    "        [pe.sweep.HouseholdSweep(), pe.sweep.QueueSweep(),\n",
    "         pe.sweep.HostProgressionSweep()],\n",
    "        sim_params,\n",
    "        file_params)\n",
    "    sim.run_sweeps()\n",
    "\n",
    "    # Store end time\n",
    "    et = time.time()\n",
    "\n",
    "    this_sim_time = et - st\n",
    "    sim_times.append(this_sim_time)\n",
    "\n",
    "    # Need to close the writer object at the end of each simulation.\n",
    "    del sim.writer\n",
    "    del sim\n",
    "\n"
   ]
  },
  {
   "cell_type": "markdown",
   "id": "895b157c",
   "metadata": {},
   "source": []
  },
  {
   "cell_type": "code",
   "execution_count": null,
   "id": "a411e067",
   "metadata": {},
   "outputs": [
    {
     "data": {
      "image/png": "[encoded data removed]",
      "text/plain": [
       "<Figure size 432x288 with 1 Axes>"
      ]
     },
     "metadata": {
      "needs_background": "light"
     },
     "output_type": "display_data"
    },
    {
     "data": {
      "image/png": "[encoded data removed]",
      "text/plain": [
       "<Figure size 432x288 with 1 Axes>"
      ]
     },
     "metadata": {
      "needs_background": "light"
     },
     "output_type": "display_data"
    }
   ],
   "source": [
    "\n",
    "# Plotting graph code\n",
    "x = pop_sizes\n",
    "y = sim_times\n",
    "\n",
    "# Plot on linear scale\n",
    "plt.title(\"Simulation time for basic simulation over 60 days with constant \"\n",
    "          \"initial infected proportion (0.1%)\")\n",
    "plt.xlabel('Population Size')\n",
    "plt.xscale('linear')\n",
    "plt.yscale('linear')\n",
    "plt.ylabel('time (s)')\n",
    "plt.plot(x, y, marker='o', c='g')\n",
    "\n",
    "plt.show()\n",
    "\n",
    "# Plot on log scale\n",
    "plt.title(\"Log scale plot of simulation time for basic simulation over 60 days with constant \"\n",
    "          \"initial infected proportion (0.1%)\")\n",
    "plt.xlabel('Population Size')\n",
    "plt.xscale('log')\n",
    "plt.yscale('log')\n",
    "plt.ylabel('time (s)')\n",
    "plt.plot(x, y, marker='o', c='g')\n",
    "\n",
    "plt.show()"
   ]
  },
  {
   "cell_type": "code",
   "execution_count": null,
   "id": "7625c861",
   "metadata": {},
   "outputs": [],
   "source": []
  }
 ],
 "metadata": {
  "kernelspec": {
   "display_name": "venv",
   "language": "python",
   "name": "python3"
  },
  "language_info": {
   "codemirror_mode": {
    "name": "ipython",
    "version": 3
   },
   "file_extension": ".py",
   "mimetype": "text/x-python",
   "name": "python",
   "nbconvert_exporter": "python",
   "pygments_lexer": "ipython3",
   "version": "3.10.6"
  },
  "vscode": {
   "interpreter": {
    "hash": "9bd3f0db53d4abe529f5978fde53ff873f84e8cf60cab9a193c4d3567322a15d"
   }
  }
 },
 "nbformat": 4,
 "nbformat_minor": 5
}
