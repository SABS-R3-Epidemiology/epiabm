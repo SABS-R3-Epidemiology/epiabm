{
 "cells": [
  {
   "cell_type": "markdown",
   "metadata": {},
   "source": [
    "# Converting a Python Population to a C++ Population"
   ]
  },
  {
   "cell_type": "code",
   "execution_count": 1,
   "metadata": {},
   "outputs": [],
   "source": [
    "import epiabm as ce\n",
    "import sys, os\n",
    "sys.path.append(os.path.abspath('../../pyEpiabm'))\n",
    "import pyEpiabm as pe\n",
    "import pyEpiabm as pe\n",
    "import time\n",
    "import json"
   ]
  },
  {
   "cell_type": "markdown",
   "metadata": {},
   "source": [
    "## Create Python Populaiton"
   ]
  },
  {
   "cell_type": "code",
   "execution_count": 2,
   "metadata": {},
   "outputs": [],
   "source": [
    "# Set config file for Parameters\n",
    "pe.Parameters.set_file(\"../simple_parameters.json\")\n",
    "\n",
    "# Method to set the seed at the start of the simulation, for reproducibility\n",
    "\n",
    "pe.routine.Simulation.set_random_seed(seed=42)\n",
    "\n",
    "pop_params = {\"population_size\": 1000000, \"cell_number\": 5,\n",
    "              \"microcell_number\": 10, \"household_number\": 5000,\n",
    "              \"place_number\": 100}\n",
    "\n",
    "# Create a population based on the parameters given.\n",
    "py_population = pe.routine.ToyPopulationFactory().make_pop(pop_params)"
   ]
  },
  {
   "cell_type": "code",
   "execution_count": 3,
   "metadata": {},
   "outputs": [],
   "source": [
    "c_factory = ce.PopulationFactory()\n",
    "c_status_map = {\n",
    "    pe.property.InfectionStatus.Dead: ce.InfectionStatus.Dead,\n",
    "    pe.property.InfectionStatus.Exposed: ce.InfectionStatus.Exposed,\n",
    "    pe.property.InfectionStatus.InfectASympt: ce.InfectionStatus.InfectASympt,\n",
    "    pe.property.InfectionStatus.InfectGP: ce.InfectionStatus.InfectGP,\n",
    "    pe.property.InfectionStatus.InfectHosp: ce.InfectionStatus.InfectHosp,\n",
    "    pe.property.InfectionStatus.InfectICU: ce.InfectionStatus.InfectICU,\n",
    "    pe.property.InfectionStatus.InfectICURecov: ce.InfectICURecov,\n",
    "    pe.property.InfectionStatus.InfectMild: ce.InfectionStatus.InfectMild,\n",
    "    pe.property.InfectionStatus.Recovered: ce.InfectionStatus.Recovered,\n",
    "    pe.property.InfectionStatus.Susceptible: ce.InfectionStatus.Susceptible\n",
    "}"
   ]
  },
  {
   "cell_type": "code",
   "execution_count": 4,
   "metadata": {},
   "outputs": [
    {
     "name": "stdout",
     "output_type": "stream",
     "text": [
      "_index_population took 0.5328744660000666s\n",
      "_validate_households took 0.046577034998335876s\n",
      "_copy_structure took 0.019490624999889405s\n",
      "Created Population\n",
      "_add_people took 0.2658192529997905s\n",
      "_configure_people took 17.127623488999234s\n",
      "49055\n",
      "_configure_households took 2.021899854298681e-05s\n",
      "_link_places took 0.03659511599835241s\n"
     ]
    }
   ],
   "source": [
    "c_population = pe.utility.py2c_population(py_population, c_factory, c_status_map)"
   ]
  }
 ],
 "metadata": {
  "interpreter": {
   "hash": "916dbcbb3f70747c44a77c7bcd40155683ae19c65e1c03b4aa3499c5328201f1"
  },
  "kernelspec": {
   "display_name": "Python 3.8.10 64-bit",
   "language": "python",
   "name": "python3"
  },
  "language_info": {
   "codemirror_mode": {
    "name": "ipython",
    "version": 3
   },
   "file_extension": ".py",
   "mimetype": "text/x-python",
   "name": "python",
   "nbconvert_exporter": "python",
   "pygments_lexer": "ipython3",
   "version": "3.8.10"
  },
  "orig_nbformat": 4
 },
 "nbformat": 4,
 "nbformat_minor": 2
}
