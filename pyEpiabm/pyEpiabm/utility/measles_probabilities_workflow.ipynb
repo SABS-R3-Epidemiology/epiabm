{
 "cells": [
  {
   "cell_type": "code",
   "execution_count": 1,
   "metadata": {},
   "outputs": [],
   "source": [
    "import pandas as pd\n",
    "import json"
   ]
  },
  {
   "cell_type": "code",
   "execution_count": 21,
   "metadata": {},
   "outputs": [
    {
     "data": {
      "text/html": [
       "<div>\n",
       "<style scoped>\n",
       "    .dataframe tbody tr th:only-of-type {\n",
       "        vertical-align: middle;\n",
       "    }\n",
       "\n",
       "    .dataframe tbody tr th {\n",
       "        vertical-align: top;\n",
       "    }\n",
       "\n",
       "    .dataframe thead th {\n",
       "        text-align: right;\n",
       "    }\n",
       "</style>\n",
       "<table border=\"1\" class=\"dataframe\">\n",
       "  <thead>\n",
       "    <tr style=\"text-align: right;\">\n",
       "      <th></th>\n",
       "      <th>0-4</th>\n",
       "      <th>5-9</th>\n",
       "      <th>10-19</th>\n",
       "      <th>20-29</th>\n",
       "      <th>30-</th>\n",
       "    </tr>\n",
       "  </thead>\n",
       "  <tbody>\n",
       "    <tr>\n",
       "      <th>measles</th>\n",
       "      <td>28730</td>\n",
       "      <td>6492</td>\n",
       "      <td>18580</td>\n",
       "      <td>9161</td>\n",
       "      <td>4069</td>\n",
       "    </tr>\n",
       "    <tr>\n",
       "      <th>GP</th>\n",
       "      <td>11883</td>\n",
       "      <td>1173</td>\n",
       "      <td>2369</td>\n",
       "      <td>2656</td>\n",
       "      <td>1399</td>\n",
       "    </tr>\n",
       "    <tr>\n",
       "      <th>hosp</th>\n",
       "      <td>7470</td>\n",
       "      <td>612</td>\n",
       "      <td>1612</td>\n",
       "      <td>2075</td>\n",
       "      <td>1107</td>\n",
       "    </tr>\n",
       "    <tr>\n",
       "      <th>death</th>\n",
       "      <td>97</td>\n",
       "      <td>9</td>\n",
       "      <td>18</td>\n",
       "      <td>26</td>\n",
       "      <td>27</td>\n",
       "    </tr>\n",
       "  </tbody>\n",
       "</table>\n",
       "</div>"
      ],
      "text/plain": [
       "           0-4   5-9  10-19  20-29   30-\n",
       "measles  28730  6492  18580   9161  4069\n",
       "GP       11883  1173   2369   2656  1399\n",
       "hosp      7470   612   1612   2075  1107\n",
       "death       97     9     18     26    27"
      ]
     },
     "execution_count": 21,
     "metadata": {},
     "output_type": "execute_result"
    }
   ],
   "source": [
    "index = ['measles','GP','hosp','death']\n",
    "data = {'0-4': [28730,11883,7470,97],\n",
    "        '5-9': [6492, 1173, 612, 9],\n",
    "        '10-19': [18580, 2369, 1612, 18],\n",
    "        '20-29': [9161, 2656, 2075, 26],\n",
    "        '30-': [4069, 1399, 1107, 27]}\n",
    "columns = list(data.keys())\n",
    "\n",
    "df = pd.DataFrame(data, index=index)\n",
    "\n",
    "row_length = len(index) + 1\n",
    "\n",
    "df"
   ]
  },
  {
   "cell_type": "code",
   "execution_count": 22,
   "metadata": {},
   "outputs": [
    {
     "name": "stdout",
     "output_type": "stream",
     "text": [
      "0.5863905325443787\n",
      "0.04074273412271259\n",
      "0.0028381181093767058\n"
     ]
    }
   ],
   "source": [
    "print((28730 - 11883)/28730)\n",
    "print((2369 - 1612) / 18580)\n",
    "print(26 / 9161)"
   ]
  },
  {
   "cell_type": "code",
   "execution_count": 23,
   "metadata": {},
   "outputs": [],
   "source": [
    "def process_rows(row1, row2, measles, final_row=False):\n",
    "\n",
    "    if final_row:\n",
    "\n",
    "        return row1 / measles\n",
    "\n",
    "    else:\n",
    "\n",
    "        return (row1 - row2) / measles"
   ]
  },
  {
   "cell_type": "code",
   "execution_count": 24,
   "metadata": {},
   "outputs": [
    {
     "data": {
      "text/html": [
       "<div>\n",
       "<style scoped>\n",
       "    .dataframe tbody tr th:only-of-type {\n",
       "        vertical-align: middle;\n",
       "    }\n",
       "\n",
       "    .dataframe tbody tr th {\n",
       "        vertical-align: top;\n",
       "    }\n",
       "\n",
       "    .dataframe thead th {\n",
       "        text-align: right;\n",
       "    }\n",
       "</style>\n",
       "<table border=\"1\" class=\"dataframe\">\n",
       "  <thead>\n",
       "    <tr style=\"text-align: right;\">\n",
       "      <th></th>\n",
       "      <th>0-4</th>\n",
       "      <th>5-9</th>\n",
       "      <th>10-19</th>\n",
       "      <th>20-29</th>\n",
       "      <th>30-</th>\n",
       "    </tr>\n",
       "  </thead>\n",
       "  <tbody>\n",
       "    <tr>\n",
       "      <th>prop_final_mild</th>\n",
       "      <td>0.586391</td>\n",
       "      <td>0.819316</td>\n",
       "      <td>0.872497</td>\n",
       "      <td>0.710075</td>\n",
       "      <td>0.656181</td>\n",
       "    </tr>\n",
       "    <tr>\n",
       "      <th>prop_final_gp</th>\n",
       "      <td>0.153603</td>\n",
       "      <td>0.086414</td>\n",
       "      <td>0.040743</td>\n",
       "      <td>0.063421</td>\n",
       "      <td>0.071762</td>\n",
       "    </tr>\n",
       "    <tr>\n",
       "      <th>prop_final_hosp</th>\n",
       "      <td>0.256631</td>\n",
       "      <td>0.092884</td>\n",
       "      <td>0.085791</td>\n",
       "      <td>0.223666</td>\n",
       "      <td>0.265421</td>\n",
       "    </tr>\n",
       "    <tr>\n",
       "      <th>prop_final_death</th>\n",
       "      <td>0.003376</td>\n",
       "      <td>0.001386</td>\n",
       "      <td>0.000969</td>\n",
       "      <td>0.002838</td>\n",
       "      <td>0.006636</td>\n",
       "    </tr>\n",
       "  </tbody>\n",
       "</table>\n",
       "</div>"
      ],
      "text/plain": [
       "                       0-4       5-9     10-19     20-29       30-\n",
       "prop_final_mild   0.586391  0.819316  0.872497  0.710075  0.656181\n",
       "prop_final_gp     0.153603  0.086414  0.040743  0.063421  0.071762\n",
       "prop_final_hosp   0.256631  0.092884  0.085791  0.223666  0.265421\n",
       "prop_final_death  0.003376  0.001386  0.000969  0.002838  0.006636"
      ]
     },
     "execution_count": 24,
     "metadata": {},
     "output_type": "execute_result"
    }
   ],
   "source": [
    "prob_data = []\n",
    "prob_index = ['prop_final_mild', 'prop_final_gp','prop_final_hosp','prop_final_death']\n",
    "\n",
    "\n",
    "for i in range(len(df)):\n",
    "    \n",
    "    if i == len(df) - 1:\n",
    "\n",
    "        new_row = process_rows(df.iloc[i], None, df.iloc[0], final_row=True)\n",
    "\n",
    "    else:\n",
    "\n",
    "        new_row = process_rows(df.iloc[i], df.iloc[i+1], df.iloc[0], final_row=False)\n",
    "\n",
    "    prob_data.append(new_row)\n",
    "\n",
    "prob_df = pd.DataFrame(prob_data, index=prob_index, columns=df.columns)\n",
    "prob_df"
   ]
  },
  {
   "cell_type": "code",
   "execution_count": 25,
   "metadata": {},
   "outputs": [
    {
     "name": "stdout",
     "output_type": "stream",
     "text": [
      "[0.2600069613644274, 0.09426987060998152, 0.08675995694294941, 0.22650365680602555, 0.27205701646596214]\n"
     ]
    }
   ],
   "source": [
    "prob_hosp_given_measles = [df.loc['hosp', columns[i]] / df.loc['measles', columns[i]] for i in range(row_length)]\n",
    "print(prob_hosp_given_measles)\n",
    "prob_gp_given_measles = [df.loc['GP', columns[i]] / df.loc['measles', columns[i]] for i in range(row_length)]\n",
    "prob_death_given_measles = [df.loc['death', columns[i]] / df.loc['measles', columns[i]] for i in range(row_length)]\n",
    "\n",
    "prob_gp_to_hosp = [prob_hosp_given_measles[i] / prob_gp_given_measles[i] for i in range(row_length)]\n",
    "prob_gp_to_recov = [1 - prob_gp_to_hosp[i] for i in range(row_length)]\n",
    "\n",
    "prob_hosp_to_death = [prob_death_given_measles[i] / prob_hosp_given_measles[i] for i in range(row_length)]\n",
    "\n",
    "prob_hosp_to_icu = [0.1, 0.1, 0.1, 0.1, 0.1] #changed\n",
    "\n",
    "prob_exposed_to_asympt = [0.1, 0.1, 0.1, 0.1, 0.9] #looked at further\n",
    "\n",
    "prob_icu_to_death = [4/15 for _ in range(row_length)] #changed\n",
    "\n",
    "prob_icu_to_recov = [1 - prob_icu_to_death[i] for i in range(row_length)]\n",
    "\n",
    "prob_hosp_to_recov = [1 - prob_hosp_to_death[i] - prob_hosp_to_icu[i] for i in range(row_length)]\n",
    "\n",
    "prob_exposed_to_mild =  prob_df.loc['prop_final_mild'].tolist()\n",
    "prob_exposed_to_mild = [(1 - prob_exposed_to_asympt[i]) * prob_exposed_to_mild[i] for i in range(row_length)]\n",
    "\n",
    "prob_exposed_to_gp =  prob_df.loc['prop_final_mild'].tolist()\n",
    "prob_exposed_to_gp = [(1 - prob_exposed_to_asympt[i]) * (1 - prob_exposed_to_gp[i]) for i in range(row_length)]\n"
   ]
  },
  {
   "cell_type": "code",
   "execution_count": 26,
   "metadata": {},
   "outputs": [
    {
     "name": "stdout",
     "output_type": "stream",
     "text": [
      "Data saved as probabilities.json\n"
     ]
    }
   ],
   "source": [
    "# Sample dictionary\n",
    "save_data = {\n",
    "    'prob_gp_to_hosp': prob_gp_to_hosp,\n",
    "    'prob_gp_to_recov': prob_gp_to_recov,\n",
    "    'prob_exposed_to_asympt': prob_exposed_to_asympt,\n",
    "    'prob_exposed_to_gp': prob_exposed_to_gp,\n",
    "    'prob_exposed_to_mild': prob_exposed_to_mild,\n",
    "    'prob_hosp_to_death': prob_hosp_to_death,\n",
    "    'prob_hosp_to_recov': prob_hosp_to_recov,\n",
    "    'prob_hosp_to_icu': prob_hosp_to_icu,\n",
    "    'prob_icu_to_death': prob_icu_to_death,\n",
    "    'prob_icu_to_recov': prob_icu_to_recov\n",
    "}\n",
    "\n",
    "with open(\"probabilities.json\", 'w') as json_file:\n",
    "\n",
    "    json.dump(save_data, json_file)\n",
    "\n",
    "print(\"Data saved as probabilities.json\")"
   ]
  },
  {
   "cell_type": "code",
   "execution_count": 34,
   "metadata": {},
   "outputs": [
    {
     "name": "stdout",
     "output_type": "stream",
     "text": [
      "                             0-4       5-9     10-19     20-29       30-\n",
      "prob_gp_to_hosp         0.628629  0.521739  0.680456  0.781250  0.791279\n",
      "prob_gp_to_recov        0.371371  0.478261  0.319544  0.218750  0.208721\n",
      "prob_exposed_to_asympt  0.100000  0.100000  0.100000  0.100000  0.900000\n",
      "prob_exposed_to_gp      0.372249  0.162616  0.114752  0.260932  0.034382\n",
      "prob_exposed_to_mild    0.527751  0.737384  0.785248  0.639068  0.065618\n",
      "prob_hosp_to_death      0.012985  0.014706  0.011166  0.012530  0.024390\n",
      "prob_hosp_to_recov      0.887015  0.885294  0.888834  0.887470  0.875610\n",
      "prob_hosp_to_icu        0.100000  0.100000  0.100000  0.100000  0.100000\n",
      "prob_icu_to_death       0.266667  0.266667  0.266667  0.266667  0.266667\n",
      "prob_icu_to_recov       0.733333  0.733333  0.733333  0.733333  0.733333\n"
     ]
    }
   ],
   "source": [
    "index = list(save_data.keys())\n",
    "probabilities_df = pd.DataFrame(save_data, index=columns, columns=index)\n",
    "probabilities_df = probabilities_df.T\n",
    "print(probabilities_df)\n",
    "\n"
   ]
  }
 ],
 "metadata": {
  "kernelspec": {
   "display_name": "Python 3",
   "language": "python",
   "name": "python3"
  },
  "language_info": {
   "codemirror_mode": {
    "name": "ipython",
    "version": 3
   },
   "file_extension": ".py",
   "mimetype": "text/x-python",
   "name": "python",
   "nbconvert_exporter": "python",
   "pygments_lexer": "ipython3",
   "version": "3.10.11"
  }
 },
 "nbformat": 4,
 "nbformat_minor": 2
}
