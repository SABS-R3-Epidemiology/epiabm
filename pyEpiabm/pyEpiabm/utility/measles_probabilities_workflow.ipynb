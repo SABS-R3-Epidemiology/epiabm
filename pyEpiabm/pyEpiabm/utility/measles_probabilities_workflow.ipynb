{
 "cells": [
  {
   "cell_type": "code",
   "execution_count": 29,
   "metadata": {},
   "outputs": [],
   "source": [
    "import pandas as pd\n",
    "import json"
   ]
  },
  {
   "cell_type": "code",
   "execution_count": 22,
   "metadata": {},
   "outputs": [
    {
     "data": {
      "text/html": [
       "<div>\n",
       "<style scoped>\n",
       "    .dataframe tbody tr th:only-of-type {\n",
       "        vertical-align: middle;\n",
       "    }\n",
       "\n",
       "    .dataframe tbody tr th {\n",
       "        vertical-align: top;\n",
       "    }\n",
       "\n",
       "    .dataframe thead th {\n",
       "        text-align: right;\n",
       "    }\n",
       "</style>\n",
       "<table border=\"1\" class=\"dataframe\">\n",
       "  <thead>\n",
       "    <tr style=\"text-align: right;\">\n",
       "      <th></th>\n",
       "      <th>0-4</th>\n",
       "      <th>5-9</th>\n",
       "      <th>10-19</th>\n",
       "      <th>20-29</th>\n",
       "      <th>30-</th>\n",
       "    </tr>\n",
       "  </thead>\n",
       "  <tbody>\n",
       "    <tr>\n",
       "      <th>measles</th>\n",
       "      <td>28730</td>\n",
       "      <td>6492</td>\n",
       "      <td>18580</td>\n",
       "      <td>9161</td>\n",
       "      <td>4069</td>\n",
       "    </tr>\n",
       "    <tr>\n",
       "      <th>GP</th>\n",
       "      <td>11883</td>\n",
       "      <td>1173</td>\n",
       "      <td>2369</td>\n",
       "      <td>2656</td>\n",
       "      <td>1399</td>\n",
       "    </tr>\n",
       "    <tr>\n",
       "      <th>hosp</th>\n",
       "      <td>7470</td>\n",
       "      <td>612</td>\n",
       "      <td>1612</td>\n",
       "      <td>2075</td>\n",
       "      <td>1107</td>\n",
       "    </tr>\n",
       "    <tr>\n",
       "      <th>death</th>\n",
       "      <td>97</td>\n",
       "      <td>9</td>\n",
       "      <td>18</td>\n",
       "      <td>26</td>\n",
       "      <td>27</td>\n",
       "    </tr>\n",
       "  </tbody>\n",
       "</table>\n",
       "</div>"
      ],
      "text/plain": [
       "           0-4   5-9  10-19  20-29   30-\n",
       "measles  28730  6492  18580   9161  4069\n",
       "GP       11883  1173   2369   2656  1399\n",
       "hosp      7470   612   1612   2075  1107\n",
       "death       97     9     18     26    27"
      ]
     },
     "execution_count": 22,
     "metadata": {},
     "output_type": "execute_result"
    }
   ],
   "source": [
    "index = ['measles','GP','hosp','death']\n",
    "data = {'0-4': [28730,11883,7470,97],\n",
    "        '5-9': [6492, 1173, 612, 9],\n",
    "        '10-19': [18580, 2369, 1612, 18],\n",
    "        '20-29': [9161, 2656, 2075, 26],\n",
    "        '30-': [4069, 1399, 1107, 27]}\n",
    "columns = list(data.keys())\n",
    "\n",
    "df = pd.DataFrame(data, index=index)\n",
    "\n",
    "row_length = len(index)\n",
    "\n",
    "df"
   ]
  },
  {
   "cell_type": "code",
   "execution_count": 5,
   "metadata": {},
   "outputs": [
    {
     "name": "stdout",
     "output_type": "stream",
     "text": [
      "0.5863905325443787\n",
      "0.04074273412271259\n",
      "0.0028381181093767058\n"
     ]
    }
   ],
   "source": [
    "print((28730 - 11883)/28730)\n",
    "print((2369 - 1612) / 18580)\n",
    "print(26 / 9161)"
   ]
  },
  {
   "cell_type": "code",
   "execution_count": 6,
   "metadata": {},
   "outputs": [],
   "source": [
    "def process_rows(row1, row2, measles, final_row=False):\n",
    "\n",
    "    if final_row:\n",
    "\n",
    "        return row1 / measles\n",
    "\n",
    "    else:\n",
    "\n",
    "        return (row1 - row2) / measles"
   ]
  },
  {
   "cell_type": "code",
   "execution_count": 7,
   "metadata": {},
   "outputs": [
    {
     "data": {
      "text/html": [
       "<div>\n",
       "<style scoped>\n",
       "    .dataframe tbody tr th:only-of-type {\n",
       "        vertical-align: middle;\n",
       "    }\n",
       "\n",
       "    .dataframe tbody tr th {\n",
       "        vertical-align: top;\n",
       "    }\n",
       "\n",
       "    .dataframe thead th {\n",
       "        text-align: right;\n",
       "    }\n",
       "</style>\n",
       "<table border=\"1\" class=\"dataframe\">\n",
       "  <thead>\n",
       "    <tr style=\"text-align: right;\">\n",
       "      <th></th>\n",
       "      <th>0-4</th>\n",
       "      <th>5-9</th>\n",
       "      <th>10-19</th>\n",
       "      <th>20-29</th>\n",
       "      <th>30-</th>\n",
       "    </tr>\n",
       "  </thead>\n",
       "  <tbody>\n",
       "    <tr>\n",
       "      <th>prop_final_mild</th>\n",
       "      <td>0.586391</td>\n",
       "      <td>0.819316</td>\n",
       "      <td>0.872497</td>\n",
       "      <td>0.710075</td>\n",
       "      <td>0.656181</td>\n",
       "    </tr>\n",
       "    <tr>\n",
       "      <th>prop_final_gp</th>\n",
       "      <td>0.153603</td>\n",
       "      <td>0.086414</td>\n",
       "      <td>0.040743</td>\n",
       "      <td>0.063421</td>\n",
       "      <td>0.071762</td>\n",
       "    </tr>\n",
       "    <tr>\n",
       "      <th>prop_final_hosp</th>\n",
       "      <td>0.256631</td>\n",
       "      <td>0.092884</td>\n",
       "      <td>0.085791</td>\n",
       "      <td>0.223666</td>\n",
       "      <td>0.265421</td>\n",
       "    </tr>\n",
       "    <tr>\n",
       "      <th>prop_final_death</th>\n",
       "      <td>0.003376</td>\n",
       "      <td>0.001386</td>\n",
       "      <td>0.000969</td>\n",
       "      <td>0.002838</td>\n",
       "      <td>0.006636</td>\n",
       "    </tr>\n",
       "  </tbody>\n",
       "</table>\n",
       "</div>"
      ],
      "text/plain": [
       "                       0-4       5-9     10-19     20-29       30-\n",
       "prop_final_mild   0.586391  0.819316  0.872497  0.710075  0.656181\n",
       "prop_final_gp     0.153603  0.086414  0.040743  0.063421  0.071762\n",
       "prop_final_hosp   0.256631  0.092884  0.085791  0.223666  0.265421\n",
       "prop_final_death  0.003376  0.001386  0.000969  0.002838  0.006636"
      ]
     },
     "execution_count": 7,
     "metadata": {},
     "output_type": "execute_result"
    }
   ],
   "source": [
    "prob_data = []\n",
    "prob_index = ['prop_final_mild', 'prop_final_gp','prop_final_hosp','prop_final_death']\n",
    "\n",
    "\n",
    "for i in range(len(df)):\n",
    "    \n",
    "    if i == len(df) - 1:\n",
    "\n",
    "        new_row = process_rows(df.iloc[i], None, df.iloc[0], final_row=True)\n",
    "\n",
    "    else:\n",
    "\n",
    "        new_row = process_rows(df.iloc[i], df.iloc[i+1], df.iloc[0], final_row=False)\n",
    "\n",
    "    prob_data.append(new_row)\n",
    "\n",
    "prob_df = pd.DataFrame(prob_data, index=prob_index, columns=df.columns)\n",
    "prob_df"
   ]
  },
  {
   "cell_type": "code",
   "execution_count": 31,
   "metadata": {},
   "outputs": [
    {
     "ename": "TypeError",
     "evalue": "unsupported operand type(s) for -: 'int' and 'list'",
     "output_type": "error",
     "traceback": [
      "\u001b[1;31m---------------------------------------------------------------------------\u001b[0m",
      "\u001b[1;31mTypeError\u001b[0m                                 Traceback (most recent call last)",
      "Cell \u001b[1;32mIn[31], line 13\u001b[0m\n\u001b[0;32m      9\u001b[0m prob_hosp_to_icu \u001b[38;5;241m=\u001b[39m \u001b[38;5;241m.\u001b[39m\u001b[38;5;241m.\u001b[39m\u001b[38;5;241m.\u001b[39m\n\u001b[0;32m     11\u001b[0m prob_exposed_to_asympt \u001b[38;5;241m=\u001b[39m [\u001b[38;5;241m0.1\u001b[39m, \u001b[38;5;241m0.1\u001b[39m, \u001b[38;5;241m0.1\u001b[39m, \u001b[38;5;241m0.1\u001b[39m, \u001b[38;5;241m0.9\u001b[39m]\n\u001b[1;32m---> 13\u001b[0m prob_hosp_to_recov \u001b[38;5;241m=\u001b[39m \u001b[38;5;241;43m1\u001b[39;49m\u001b[43m \u001b[49m\u001b[38;5;241;43m-\u001b[39;49m\u001b[43m \u001b[49m\u001b[43mprob_hosp_to_death\u001b[49m \u001b[38;5;241m-\u001b[39m prob_hosp_to_icu\n\u001b[0;32m     15\u001b[0m prob_exposed_to_mild \u001b[38;5;241m=\u001b[39m  prob_df\u001b[38;5;241m.\u001b[39mloc[\u001b[38;5;124m'\u001b[39m\u001b[38;5;124mprop_final_mild\u001b[39m\u001b[38;5;124m'\u001b[39m]\u001b[38;5;241m.\u001b[39mtolist()\n\u001b[0;32m     16\u001b[0m prob_exposed_to_mild \u001b[38;5;241m=\u001b[39m [(\u001b[38;5;241m1\u001b[39m \u001b[38;5;241m-\u001b[39m prob_exposed_to_asympt[i]) \u001b[38;5;241m*\u001b[39m prob_exposed_to_mild[i] \u001b[38;5;28;01mfor\u001b[39;00m i \u001b[38;5;129;01min\u001b[39;00m \u001b[38;5;28mrange\u001b[39m(row_length)]\n",
      "\u001b[1;31mTypeError\u001b[0m: unsupported operand type(s) for -: 'int' and 'list'"
     ]
    }
   ],
   "source": [
    "prob_hosp_given_measles = [df.loc['hosp', columns[i]] / df.loc['measles', columns[i]] for i in range(row_length)]\n",
    "prob_gp_given_measles = [df.loc['GP', columns[i]] / df.loc['measles', columns[i]] for i in range(row_length)]\n",
    "prob_death_given_measles = [df.loc['death', columns[i]] / df.loc['measles', columns[i]] for i in range(row_length)]\n",
    "\n",
    "prob_gp_to_hosp = [prob_hosp_given_measles[i] / prob_gp_given_measles[i] for i in range(row_length)]\n",
    "prob_gp_to_recov = [1 - prob_gp_to_hosp[i] for i in range(row_length)]\n",
    "\n",
    "prob_hosp_to_death = [prob_death_given_measles[i] / prob_hosp_given_measles[i] for i in range(row_length)]\n",
    "prob_hosp_to_icu = ...\n",
    "\n",
    "prob_exposed_to_asympt = [0.1, 0.1, 0.1, 0.1, 0.9]\n",
    "\n",
    "prob_hosp_to_recov = 1 - prob_hosp_to_death - prob_hosp_to_icu\n",
    "\n",
    "prob_exposed_to_mild =  prob_df.loc['prop_final_mild'].tolist()\n",
    "prob_exposed_to_mild = [(1 - prob_exposed_to_asympt[i]) * prob_exposed_to_mild[i] for i in range(row_length)]\n",
    "\n",
    "prob_exposed_to_gp =  prob_df.loc['prop_final_mild'].tolist()\n",
    "prob_exposed_to_gp = [(1 - prob_exposed_to_asympt[i]) * (1 - prob_exposed_to_gp[i]) for i in range(row_length)]\n"
   ]
  },
  {
   "cell_type": "code",
   "execution_count": 32,
   "metadata": {},
   "outputs": [
    {
     "ename": "NameError",
     "evalue": "name 'prob_hosp_to_recov' is not defined",
     "output_type": "error",
     "traceback": [
      "\u001b[1;31m---------------------------------------------------------------------------\u001b[0m",
      "\u001b[1;31mNameError\u001b[0m                                 Traceback (most recent call last)",
      "Cell \u001b[1;32mIn[32], line 9\u001b[0m\n\u001b[0;32m      1\u001b[0m \u001b[38;5;66;03m# Sample dictionary\u001b[39;00m\n\u001b[0;32m      2\u001b[0m save_data \u001b[38;5;241m=\u001b[39m {\n\u001b[0;32m      3\u001b[0m     \u001b[38;5;124m'\u001b[39m\u001b[38;5;124mprob_gp_to_hosp\u001b[39m\u001b[38;5;124m'\u001b[39m: prob_gp_to_hosp,\n\u001b[0;32m      4\u001b[0m     \u001b[38;5;124m'\u001b[39m\u001b[38;5;124mprob_gp_to_recov\u001b[39m\u001b[38;5;124m'\u001b[39m: prob_gp_to_recov,\n\u001b[0;32m      5\u001b[0m     \u001b[38;5;124m'\u001b[39m\u001b[38;5;124mprob_exposed_to_asympt\u001b[39m\u001b[38;5;124m'\u001b[39m: prob_exposed_to_asympt,\n\u001b[0;32m      6\u001b[0m     \u001b[38;5;124m'\u001b[39m\u001b[38;5;124mprob_exposed_to_gp\u001b[39m\u001b[38;5;124m'\u001b[39m: prob_exposed_to_gp,\n\u001b[0;32m      7\u001b[0m     \u001b[38;5;124m'\u001b[39m\u001b[38;5;124mprob_exposed_to_mild\u001b[39m\u001b[38;5;124m'\u001b[39m: prob_exposed_to_mild,\n\u001b[0;32m      8\u001b[0m     \u001b[38;5;124m'\u001b[39m\u001b[38;5;124mprob_hosp_to_death\u001b[39m\u001b[38;5;124m'\u001b[39m: prob_hosp_to_death,\n\u001b[1;32m----> 9\u001b[0m     \u001b[38;5;124m'\u001b[39m\u001b[38;5;124mprob_hosp_to_recov\u001b[39m\u001b[38;5;124m'\u001b[39m: \u001b[43mprob_hosp_to_recov\u001b[49m,\n\u001b[0;32m     10\u001b[0m     \u001b[38;5;124m'\u001b[39m\u001b[38;5;124mprob_hosp_to_icu\u001b[39m\u001b[38;5;124m'\u001b[39m: prob_hosp_to_icu\n\u001b[0;32m     11\u001b[0m }\n\u001b[0;32m     13\u001b[0m \u001b[38;5;28;01mwith\u001b[39;00m \u001b[38;5;28mopen\u001b[39m(\u001b[38;5;124m\"\u001b[39m\u001b[38;5;124mprobabilities.json\u001b[39m\u001b[38;5;124m\"\u001b[39m, \u001b[38;5;124m'\u001b[39m\u001b[38;5;124mw\u001b[39m\u001b[38;5;124m'\u001b[39m) \u001b[38;5;28;01mas\u001b[39;00m json_file:\n\u001b[0;32m     14\u001b[0m     json\u001b[38;5;241m.\u001b[39mdump(data, json_file)\n",
      "\u001b[1;31mNameError\u001b[0m: name 'prob_hosp_to_recov' is not defined"
     ]
    }
   ],
   "source": [
    "# Sample dictionary\n",
    "save_data = {\n",
    "    'prob_gp_to_hosp': prob_gp_to_hosp,\n",
    "    'prob_gp_to_recov': prob_gp_to_recov,\n",
    "    'prob_exposed_to_asympt': prob_exposed_to_asympt,\n",
    "    'prob_exposed_to_gp': prob_exposed_to_gp,\n",
    "    'prob_exposed_to_mild': prob_exposed_to_mild,\n",
    "    'prob_hosp_to_death': prob_hosp_to_death,\n",
    "    'prob_hosp_to_recov': prob_hosp_to_recov,\n",
    "    'prob_hosp_to_icu': prob_hosp_to_icu\n",
    "}\n",
    "\n",
    "with open(\"probabilities.json\", 'w') as json_file:\n",
    "\n",
    "    json.dump(save_data, json_file)\n",
    "\n",
    "print(\"Data saved as probabilities.json\")"
   ]
  }
 ],
 "metadata": {
  "kernelspec": {
   "display_name": "Python 3",
   "language": "python",
   "name": "python3"
  },
  "language_info": {
   "codemirror_mode": {
    "name": "ipython",
    "version": 3
   },
   "file_extension": ".py",
   "mimetype": "text/x-python",
   "name": "python",
   "nbconvert_exporter": "python",
   "pygments_lexer": "ipython3",
   "version": "3.10.11"
  }
 },
 "nbformat": 4,
 "nbformat_minor": 2
}
